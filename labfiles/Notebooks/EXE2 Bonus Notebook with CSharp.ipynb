{
  "metadata": {
    "saveOutput": true,
    "language_info": {
      "name": "csharp"
    }
  },
  "nbformat": 4,
  "nbformat_minor": 2,
  "cells": [
    {
      "cell_type": "code",
      "execution_count": null,
      "outputs": [],
      "metadata": {},
      "source": [
        "// Set the path to read the Yellow Cab files\n",
        "var adls_path = \"abfss://nyctlc@<ADLSg2 Account Name>.dfs.core.windows.net/green/\";"
      ],
      "attachments": {}
    },
    {
      "cell_type": "code",
      "execution_count": null,
      "outputs": [],
      "metadata": {},
      "source": [
        "var greencab = spark.Read().Parquet(adls_path);"
      ],
      "attachments": {}
    },
    {
      "cell_type": "code",
      "execution_count": null,
      "outputs": [],
      "metadata": {},
      "source": [
        "// Curate the dataframe with the years that you need and drop some columns that you don't need \n",
        "var greencabcurated = greencab.Filter(Col(\"puYear\") == \"2015\" | Col(\"puYear\") == \"2016\" | Col(\"puYear\") == \"2017\" | Col(\"puYear\") == \"2018\" | Col(\"puYear\") == \"2019\").Drop(\"vendorID\",\"tripDistance\",\"rateCodeId\",\"storeAndFwdFlag\",\"paymentType\",\"fareAmount\",\"extra\",\"mtaTax\",\"improvementSurcharge\",\"tollsAmount\",\"ehailFee\",\"tripType\");"
      ],
      "attachments": {}
    },
    {
      "cell_type": "code",
      "execution_count": null,
      "outputs": [],
      "metadata": {},
      "source": [
        "var adls_pathsql = \"abfss://nyctlc@<ADLSg2 Account Name>.dfs.core.windows.net/greencuratedbackup/\";"
      ],
      "attachments": {}
    },
    {
      "cell_type": "code",
      "execution_count": null,
      "outputs": [],
      "metadata": {},
      "source": [
        "greencabcurated.Write().Mode(\"Overwrite\").Parquet(adls_pathsql);"
      ],
      "attachments": {}
    }
  ]
}