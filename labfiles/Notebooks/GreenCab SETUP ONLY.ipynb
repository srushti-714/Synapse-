{
  "metadata": {
    "saveOutput": true,
    "language_info": {
      "name": "scala"
    }
  },
  "nbformat": 4,
  "nbformat_minor": 2,
  "cells": [
    {
      "cell_type": "code",
      "execution_count": 3,
      "outputs": [
        {
          "output_type": "execute_result",
          "data": {
            "text/plain": "import org.apache.spark.sql.{Dataset, SparkSession}\nadls_path: String = abfss://nyctlc@labignitemodel.dfs.core.windows.net/fhvbackup/"
          },
          "execution_count": 3,
          "metadata": {}
        }
      ],
      "metadata": {},
      "source": [
        "// Set the path to read the Yellow Cab files\n",
        "import org.apache.spark.sql.{Dataset, SparkSession}\n",
        "val adls_path = \"abfss://nyctlc@<ADLSg2 Account Name>.dfs.core.windows.net/green/\"\n",
        "spark.conf.set(\"fs.azure.account.auth.type.<ADLSg2 Account Name>.dfs.core.windows.net\", \"SharedKey\")\n",
        "spark.conf.set(\"fs.azure.account.key.<ADLSg2 Account Name>.dfs.core.windows.net\",\"<Primary Key>\")"
      ],
      "attachments": {}
    },
    {
      "cell_type": "code",
      "execution_count": 4,
      "outputs": [
        {
          "output_type": "execute_result",
          "data": {
            "text/plain": "fhv: org.apache.spark.sql.DataFrame = [dispatchBaseNum: string, pickupDateTime: timestamp ... 6 more fields]"
          },
          "execution_count": 4,
          "metadata": {}
        }
      ],
      "metadata": {},
      "source": [
        "val greencab = spark.read.parquet(adls_path)"
      ],
      "attachments": {}
    },
    {
      "cell_type": "code",
      "execution_count": null,
      "outputs": [],
      "metadata": {},
      "source": [
        "val greencabcurated = greencab.drop(\"vendorID\",\"tripDistance\",\"rateCodeId\",\"storeAndFwdFlag\",\"paymentType\", \"fareAmount\",\"extra\",\"mtaTax\",\"improvementSurcharge\",\"tollsAmount\",\"ehailFee\",\"tripType\")"
      ],
      "attachments": {}
    },
    {
      "cell_type": "code",
      "execution_count": 5,
      "outputs": [
        {
          "output_type": "execute_result",
          "data": {
            "text/plain": "adls_pathsql: String = abfss://nyctlc@labignitemodel.dfs.core.windows.net/fhv/"
          },
          "execution_count": 5,
          "metadata": {}
        }
      ],
      "metadata": {},
      "source": [
        "val adls_pathsql = \"abfss://nyctlc@<ADLSg2 Account Name>.dfs.core.windows.net/greencuratedbackup/\""
      ],
      "attachments": {}
    },
    {
      "cell_type": "code",
      "execution_count": 6,
      "outputs": [],
      "metadata": {},
      "source": [
        "greencabcurated.write.mode(\"Overwrite\").parquet(adls_pathsql)"
      ],
      "attachments": {}
    }
  ]
}