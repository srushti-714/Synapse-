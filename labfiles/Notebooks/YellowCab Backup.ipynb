{
  "metadata": {
    "saveOutput": true,
    "language_info": {
      "name": "scala"
    }
  },
  "nbformat": 4,
  "nbformat_minor": 2,
  "cells": [
    {
      "cell_type": "code",
      "execution_count": 2,
      "outputs": [
        {
          "output_type": "execute_result",
          "data": {
            "text/plain": "import org.apache.spark.sql.{Dataset, SparkSession}\nadls_path: String = abfss://nyctlc@labignitemodel.dfs.core.windows.net/yellow/"
          },
          "execution_count": 2,
          "metadata": {}
        }
      ],
      "metadata": {},
      "source": [
        "// Set the path to read the Yellow Cab files\n",
        "import org.apache.spark.sql.{Dataset, SparkSession}\n",
        "val adls_path = \"abfss://nyctlc@<ADLSg2 Account Name>.dfs.core.windows.net/yellow/\""
      ],
      "attachments": {}
    },
    {
      "cell_type": "code",
      "execution_count": 3,
      "outputs": [
        {
          "output_type": "execute_result",
          "data": {
            "text/plain": "yellowcab: org.apache.spark.sql.DataFrame = [vendorID: string, tpepPickupDateTime: timestamp ... 21 more fields]"
          },
          "execution_count": 3,
          "metadata": {}
        }
      ],
      "metadata": {},
      "source": [
        "val yellowcab = spark.read.parquet(adls_path)"
      ],
      "attachments": {}
    },
    {
      "cell_type": "code",
      "execution_count": 4,
      "outputs": [
        {
          "output_type": "execute_result",
          "data": {
            "text/plain": "yellowcabcurated: org.apache.spark.sql.DataFrame = [tpepPickupDateTime: timestamp, tpepDropoffDateTime: timestamp ... 11 more fields]"
          },
          "execution_count": 4,
          "metadata": {}
        }
      ],
      "metadata": {},
      "source": [
        "// Curate the dataframe with the years that you need and drop some columns that you don't need \n",
        "val yellowcabcurated = yellowcab.filter($\"puYear\" === \"2015\" || $\"puYear\" === \"2016\" || $\"puYear\" === \"2017\" || $\"puYear\" === \"2018\" || $\"puYear\" === \"2019\").drop(\"vendorID\",\"tripDistance\",\"rateCodeId\",\"storeAndFwdFlag\",\"paymentType\", \"fareAmount\",\"extra\",\"mtaTax\",\"improvementSurcharge\",\"tollsAmount\",\"ehailFee\",\"tripType\")"
      ],
      "attachments": {}
    },
    {
      "cell_type": "code",
      "execution_count": 5,
      "outputs": [
        {
          "output_type": "execute_result",
          "data": {
            "text/plain": "adls_pathsql: String = abfss://nyctlc@labignitemodel.dfs.core.windows.net/yellowcuratedbackup/"
          },
          "execution_count": 5,
          "metadata": {}
        }
      ],
      "metadata": {},
      "source": [
        "val adls_pathsql = \"abfss://nyctlc@<ADLSg2 Account Name>.dfs.core.windows.net/yellowcuratedbackup/\""
      ],
      "attachments": {}
    },
    {
      "cell_type": "code",
      "execution_count": 6,
      "outputs": [],
      "metadata": {},
      "source": [
        "yellowcabcurated.write.mode(\"Overwrite\").parquet(adls_pathsql)"
      ],
      "attachments": {}
    }
  ]
}